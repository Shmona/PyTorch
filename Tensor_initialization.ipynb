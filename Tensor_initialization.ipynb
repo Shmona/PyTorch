{
 "cells": [
  {
   "cell_type": "markdown",
   "id": "77cc6b1a",
   "metadata": {},
   "source": [
    "### Tensor Initialization"
   ]
  },
  {
   "cell_type": "code",
   "execution_count": 1,
   "id": "c6f46464",
   "metadata": {},
   "outputs": [
    {
     "name": "stdout",
     "output_type": "stream",
     "text": [
      "2.1.2\n"
     ]
    }
   ],
   "source": [
    "# import and check Pytorch version\n",
    "import torch\n",
    "print(torch.__version__)"
   ]
  },
  {
   "cell_type": "code",
   "execution_count": 2,
   "id": "00696d8a",
   "metadata": {},
   "outputs": [
    {
     "name": "stdout",
     "output_type": "stream",
     "text": [
      "tensor([[2, 3, 4],\n",
      "        [5, 6, 6]])\n"
     ]
    }
   ],
   "source": [
    "# Create a tensor  : [[]] list inside list\n",
    "my_tensor = torch.tensor([[2,3,4], [ 5, 6,6]])  # 2x3 tesnor 2 : rowa, 3: columun\n",
    "print(my_tensor)"
   ]
  },
  {
   "cell_type": "code",
   "execution_count": 3,
   "id": "db8ca18c",
   "metadata": {},
   "outputs": [
    {
     "name": "stdout",
     "output_type": "stream",
     "text": [
      "tensor([[2., 3., 4.],\n",
      "        [5., 6., 6.]])\n"
     ]
    }
   ],
   "source": [
    "# Specify data type of the element \n",
    "my_tensor = torch.tensor([[2,3,4], [ 5, 6,6]], dtype=torch.float32)  #dtype = torch.float32\n",
    "print(my_tensor)"
   ]
  },
  {
   "cell_type": "code",
   "execution_count": 4,
   "id": "fbf0d37a",
   "metadata": {},
   "outputs": [
    {
     "name": "stdout",
     "output_type": "stream",
     "text": [
      "tensor([[2., 3., 4.],\n",
      "        [5., 6., 6.]])\n"
     ]
    }
   ],
   "source": [
    "# Specify device ( default one is cpu) \n",
    "my_tensor = torch.tensor([[2,3,4], [ 5, 6,6]], dtype=torch.float32, device=\"cpu\" )  #device=\"cuda\"\n",
    "print(my_tensor)"
   ]
  },
  {
   "cell_type": "code",
   "execution_count": 5,
   "id": "5a700a7d",
   "metadata": {},
   "outputs": [
    {
     "name": "stdout",
     "output_type": "stream",
     "text": [
      "tensor([[2., 3., 4.],\n",
      "        [5., 6., 6.]], requires_grad=True)\n"
     ]
    }
   ],
   "source": [
    "#usage of auto grad to compute partial derivative for back propagation\n",
    "my_tensor = torch.tensor([[2,3,4], [ 5, 6,6]], dtype=torch.float32, device=\"cpu\", requires_grad=True )  #required_grad=True\n",
    "print(my_tensor)"
   ]
  },
  {
   "cell_type": "code",
   "execution_count": 6,
   "id": "47c8d519",
   "metadata": {},
   "outputs": [
    {
     "name": "stdout",
     "output_type": "stream",
     "text": [
      "tensor([[2., 3., 4.],\n",
      "        [5., 6., 6.]], requires_grad=True)\n"
     ]
    }
   ],
   "source": [
    "# way to define device\n",
    "device = \"cuda\" if torch.cuda.is_available() else \"cpu\"\n",
    "my_tensor = torch.tensor([[2,3,4], [ 5, 6,6]], dtype=torch.float32, device=device, requires_grad=True )  #device=device\n",
    "print(my_tensor)"
   ]
  },
  {
   "cell_type": "code",
   "execution_count": 7,
   "id": "5f737cfc",
   "metadata": {},
   "outputs": [
    {
     "name": "stdout",
     "output_type": "stream",
     "text": [
      "tensor([[2., 3., 4.],\n",
      "        [5., 6., 6.]], requires_grad=True)\n",
      "torch.float32\n",
      "cpu\n",
      "True\n",
      "torch.Size([2, 3])\n"
     ]
    }
   ],
   "source": [
    "# properties of tensor\n",
    "print(my_tensor)          # to print tensor\n",
    "print(my_tensor.dtype)    # to print data type of tensor\n",
    "print(my_tensor.device)    # to print device used\n",
    "print(my_tensor.requires_grad)            # to print requires_grad flag\n",
    "print(my_tensor.shape)                    # to print shape of tensor"
   ]
  },
  {
   "cell_type": "markdown",
   "id": "dafd42c5",
   "metadata": {},
   "source": [
    "### other common ways to initialize the tensor"
   ]
  },
  {
   "cell_type": "code",
   "execution_count": 8,
   "id": "c25f4337",
   "metadata": {},
   "outputs": [
    {
     "name": "stdout",
     "output_type": "stream",
     "text": [
      "tensor([[0., 0., 0., 0.],\n",
      "        [0., 0., 0., 0.],\n",
      "        [0., 0., 0., 0.]])\n"
     ]
    }
   ],
   "source": [
    "x = torch.empty(size = (3,4))   #Returns a tensor filled with uninitialized data. \n",
    "#The shape of the tensor is defined by the variable argument size.\n",
    "print(x)"
   ]
  },
  {
   "cell_type": "code",
   "execution_count": 9,
   "id": "64673d44",
   "metadata": {},
   "outputs": [
    {
     "name": "stdout",
     "output_type": "stream",
     "text": [
      "tensor([[0., 0., 0., 0.],\n",
      "        [0., 0., 0., 0.],\n",
      "        [0., 0., 0., 0.]])\n"
     ]
    }
   ],
   "source": [
    "x = torch.zeros((3,4))   #Returns a tensor filled with zeros. No need to argument size \n",
    "print(x)"
   ]
  },
  {
   "cell_type": "code",
   "execution_count": 10,
   "id": "5412cff8",
   "metadata": {},
   "outputs": [
    {
     "name": "stdout",
     "output_type": "stream",
     "text": [
      "tensor([[9.0727e-01, 3.8690e-01, 1.6210e-01, 9.5126e-01],\n",
      "        [2.5507e-01, 6.7955e-01, 7.7568e-01, 5.4222e-01],\n",
      "        [9.7228e-01, 5.0288e-04, 5.4110e-01, 1.6021e-01]])\n"
     ]
    }
   ],
   "source": [
    "x = torch.rand((3,4))   #Returns a tensor filled with values from uniform distributions ( 0 1).\n",
    "print(x)"
   ]
  },
  {
   "cell_type": "code",
   "execution_count": 11,
   "id": "68bb11cb",
   "metadata": {},
   "outputs": [
    {
     "name": "stdout",
     "output_type": "stream",
     "text": [
      "tensor([[1., 1., 1., 1.],\n",
      "        [1., 1., 1., 1.],\n",
      "        [1., 1., 1., 1.]])\n"
     ]
    }
   ],
   "source": [
    "x = torch.ones((3,4))   #Returns a tensor filled with ones.\n",
    "print(x)"
   ]
  },
  {
   "cell_type": "code",
   "execution_count": 12,
   "id": "10702ea8",
   "metadata": {},
   "outputs": [
    {
     "name": "stdout",
     "output_type": "stream",
     "text": [
      "tensor([[1., 0., 0., 0.],\n",
      "        [0., 1., 0., 0.],\n",
      "        [0., 0., 1., 0.]])\n"
     ]
    }
   ],
   "source": [
    "# to create an identity matrix\n",
    "x = torch.eye(3,4)   #Returns a tensor filled with ones in principle diagonal. \n",
    "print(x)"
   ]
  },
  {
   "cell_type": "code",
   "execution_count": 13,
   "id": "aab7e528",
   "metadata": {},
   "outputs": [
    {
     "name": "stdout",
     "output_type": "stream",
     "text": [
      "tensor([0, 2, 4, 6, 8])\n"
     ]
    }
   ],
   "source": [
    "# use arange \n",
    "x = torch.arange(start=0, end=10 ,step=2)    # end value is not inclusive\n",
    "print(x)"
   ]
  },
  {
   "cell_type": "code",
   "execution_count": 14,
   "id": "f180f3f7",
   "metadata": {},
   "outputs": [
    {
     "name": "stdout",
     "output_type": "stream",
     "text": [
      "tensor([0.1000, 0.2125, 0.3250, 0.4375, 0.5500, 0.6625, 0.7750, 0.8875, 1.0000])\n"
     ]
    }
   ],
   "source": [
    "# use arange \n",
    "x = torch.linspace(start=0.1, end= 1 ,steps=9)    # steps = no. of elements, end value is inclusive\n",
    "print(x)"
   ]
  },
  {
   "cell_type": "code",
   "execution_count": 16,
   "id": "3c7dbc00",
   "metadata": {},
   "outputs": [
    {
     "name": "stdout",
     "output_type": "stream",
     "text": [
      "tensor([[0.3203, 0.6171, 0.9176, 0.0531, 0.2491, 0.7790, 0.3328, 0.6019],\n",
      "        [0.2940, 0.4925, 0.5735, 0.4717, 0.3106, 0.1409, 0.2119, 0.8064],\n",
      "        [0.3472, 0.8174, 0.6890, 0.7658, 0.4766, 0.8702, 0.9758, 0.3862],\n",
      "        [0.8768, 0.5299, 0.4104, 0.5318, 0.0651, 0.9791, 0.2060, 0.4743],\n",
      "        [0.9661, 0.0935, 0.1956, 0.6499, 0.7073, 0.8009, 0.3038, 0.2973]])\n"
     ]
    }
   ],
   "source": [
    "# uniformly distributed data of 5 x 8  with mean = 0 , standard deviation = 1\n",
    "x = torch.empty(size=(5,8)).uniform_(0,1)\n",
    "print(x)"
   ]
  },
  {
   "cell_type": "code",
   "execution_count": 19,
   "id": "f74ea113",
   "metadata": {},
   "outputs": [
    {
     "name": "stdout",
     "output_type": "stream",
     "text": [
      "tensor([[-0.4194, -0.1896, -1.4079, -0.7426,  0.7123,  0.2043, -0.0246,  0.3475],\n",
      "        [-0.3354, -0.3553, -0.3792, -1.2205, -1.2732, -0.7440,  0.4255,  0.1009],\n",
      "        [ 0.3402,  2.5088, -0.2694, -2.3011, -0.9081, -0.5649,  0.3797, -0.2379],\n",
      "        [ 0.1575, -0.2194,  1.1105,  0.2604, -0.2884, -0.5264,  1.2344, -1.0870],\n",
      "        [ 1.2365,  1.4630, -0.0934,  1.4255,  0.1856, -0.6134, -0.3746, -0.9817]])\n"
     ]
    }
   ],
   "source": [
    "# Noraml distributed data of 5 x 8  with mean = 0 , standard deviation = 1\n",
    "x = torch.empty(size=(5,8)).normal_(mean=0, std=1)\n",
    "print(x)"
   ]
  },
  {
   "cell_type": "code",
   "execution_count": 20,
   "id": "8112397e",
   "metadata": {},
   "outputs": [
    {
     "name": "stdout",
     "output_type": "stream",
     "text": [
      "tensor([[1., 0., 0., 0.],\n",
      "        [0., 1., 0., 0.],\n",
      "        [0., 0., 1., 0.],\n",
      "        [0., 0., 0., 1.]])\n"
     ]
    }
   ],
   "source": [
    "x = torch.diag(torch.ones(4))  # creates 4x4 identity matrix\n",
    "print(x)"
   ]
  },
  {
   "cell_type": "code",
   "execution_count": 22,
   "id": "dea0014a",
   "metadata": {},
   "outputs": [
    {
     "name": "stdout",
     "output_type": "stream",
     "text": [
      "tensor([[1., 0., 0., 0.],\n",
      "        [0., 1., 0., 0.],\n",
      "        [0., 0., 1., 0.],\n",
      "        [0., 0., 0., 1.]])\n"
     ]
    }
   ],
   "source": [
    "x = torch.diag(torch.ones(4))  # creates 4x4 identity matrix\n",
    "print(x)"
   ]
  },
  {
   "cell_type": "markdown",
   "id": "d8d2f3ec",
   "metadata": {},
   "source": [
    "### How to Initialize and convert tensor to different types ( int, float, double) "
   ]
  },
  {
   "cell_type": "code",
   "execution_count": 24,
   "id": "eca614be",
   "metadata": {},
   "outputs": [
    {
     "name": "stdout",
     "output_type": "stream",
     "text": [
      "tensor([0, 1, 2, 3, 4])\n",
      "torch.int64\n",
      "tensor([False,  True,  True,  True,  True])\n"
     ]
    }
   ],
   "source": [
    "x = torch.arange(5)  # deafult dtype is torch.int64\n",
    "print(x)\n",
    "print(x.dtype)\n",
    "print(x.bool())  # converts tensor into bool "
   ]
  },
  {
   "cell_type": "code",
   "execution_count": 25,
   "id": "8e7b8176",
   "metadata": {},
   "outputs": [
    {
     "name": "stdout",
     "output_type": "stream",
     "text": [
      "tensor([0, 1, 2, 3, 4], dtype=torch.int16)\n"
     ]
    }
   ],
   "source": [
    "print(x.short())  # converts tensor into int16 "
   ]
  },
  {
   "cell_type": "code",
   "execution_count": 27,
   "id": "d45ea60c",
   "metadata": {},
   "outputs": [
    {
     "name": "stdout",
     "output_type": "stream",
     "text": [
      "tensor([0, 1, 2, 3, 4])\n",
      "torch.int64\n",
      "tensor([0., 1., 2., 3., 4.], dtype=torch.float16)\n"
     ]
    }
   ],
   "source": [
    "print(x.long())  # converts tensor into int64\n",
    "print(x.long().dtype) \n",
    "print(x.half())  # converts tensor into float16 "
   ]
  },
  {
   "cell_type": "code",
   "execution_count": 29,
   "id": "fc26e0ce",
   "metadata": {},
   "outputs": [
    {
     "name": "stdout",
     "output_type": "stream",
     "text": [
      "tensor([0., 1., 2., 3., 4.])\n",
      "torch.float32\n",
      "tensor([0., 1., 2., 3., 4.], dtype=torch.float64)\n"
     ]
    }
   ],
   "source": [
    "print(x.float()) # converts tensor into float32\n",
    "print(x.float().dtype)\n",
    "print(x.double()) # converts tensor into float64"
   ]
  },
  {
   "cell_type": "markdown",
   "id": "1cd5b302",
   "metadata": {},
   "source": [
    "### How to convert a tensor into numpy array & vice-versa"
   ]
  },
  {
   "cell_type": "code",
   "execution_count": 51,
   "id": "3d72ccee",
   "metadata": {},
   "outputs": [
    {
     "name": "stdout",
     "output_type": "stream",
     "text": [
      "[[0.87579471 0.39113436 0.73592544 0.8391816 ]\n",
      " [0.59309976 0.99868888 0.37225915 0.54383587]\n",
      " [0.99618373 0.14474338 0.96707676 0.79836118]\n",
      " [0.58716875 0.97543443 0.23957046 0.61175528]\n",
      " [0.9020001  0.11671671 0.28637956 0.04666276]]\n",
      "float64\n"
     ]
    }
   ],
   "source": [
    "import numpy as np\n",
    "np_array = np.random.rand(5,4)  #create 5x4 ndarray\n",
    "print(np_array)\n",
    "print(np_array.dtype)  # default data type = float64"
   ]
  },
  {
   "cell_type": "code",
   "execution_count": 53,
   "id": "248100f8",
   "metadata": {},
   "outputs": [
    {
     "name": "stdout",
     "output_type": "stream",
     "text": [
      "tensor([[0.8758, 0.3911, 0.7359, 0.8392],\n",
      "        [0.5931, 0.9987, 0.3723, 0.5438],\n",
      "        [0.9962, 0.1447, 0.9671, 0.7984],\n",
      "        [0.5872, 0.9754, 0.2396, 0.6118],\n",
      "        [0.9020, 0.1167, 0.2864, 0.0467]], dtype=torch.float64)\n",
      "torch.float64\n"
     ]
    }
   ],
   "source": [
    "# conversion into tensor  \n",
    "tensor = torch.from_numpy(np_array)   ## there could be precision loss\n",
    "print(tensor)\n",
    "print(tensor.dtype)"
   ]
  },
  {
   "cell_type": "code",
   "execution_count": 54,
   "id": "177dff52",
   "metadata": {},
   "outputs": [
    {
     "name": "stdout",
     "output_type": "stream",
     "text": [
      "[[0.87579471 0.39113436 0.73592544 0.8391816 ]\n",
      " [0.59309976 0.99868888 0.37225915 0.54383587]\n",
      " [0.99618373 0.14474338 0.96707676 0.79836118]\n",
      " [0.58716875 0.97543443 0.23957046 0.61175528]\n",
      " [0.9020001  0.11671671 0.28637956 0.04666276]]\n"
     ]
    }
   ],
   "source": [
    "# conversion back into ndarray\n",
    "np_array_back = torch.Tensor.numpy(tensor)\n",
    "print(np_array_back)"
   ]
  },
  {
   "cell_type": "code",
   "execution_count": null,
   "id": "fe4b8d76",
   "metadata": {},
   "outputs": [],
   "source": []
  }
 ],
 "metadata": {
  "kernelspec": {
   "display_name": "Coursera",
   "language": "python",
   "name": "coursera"
  },
  "language_info": {
   "codemirror_mode": {
    "name": "ipython",
    "version": 3
   },
   "file_extension": ".py",
   "mimetype": "text/x-python",
   "name": "python",
   "nbconvert_exporter": "python",
   "pygments_lexer": "ipython3",
   "version": "3.11.5"
  }
 },
 "nbformat": 4,
 "nbformat_minor": 5
}
